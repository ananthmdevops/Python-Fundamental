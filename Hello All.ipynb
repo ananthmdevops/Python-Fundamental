{
 "cells": [
  {
   "cell_type": "code",
   "execution_count": 3,
   "id": "959266fc-0f88-4a23-b903-532eadf15c24",
   "metadata": {},
   "outputs": [
    {
     "name": "stdout",
     "output_type": "stream",
     "text": [
      " Hello World, Welcome to Python world..\n"
     ]
    }
   ],
   "source": [
    "print (\" Hello World, Welcome to Python world..\" )"
   ]
  },
  {
   "cell_type": "code",
   "execution_count": null,
   "id": "d15f9983-70fb-4ac1-9267-c0a8c255d147",
   "metadata": {},
   "outputs": [],
   "source": []
  }
 ],
 "metadata": {
  "kernelspec": {
   "display_name": "Python 3 (ipykernel)",
   "language": "python",
   "name": "python3"
  },
  "language_info": {
   "codemirror_mode": {
    "name": "ipython",
    "version": 3
   },
   "file_extension": ".py",
   "mimetype": "text/x-python",
   "name": "python",
   "nbconvert_exporter": "python",
   "pygments_lexer": "ipython3",
   "version": "3.12.4"
  }
 },
 "nbformat": 4,
 "nbformat_minor": 5
}
